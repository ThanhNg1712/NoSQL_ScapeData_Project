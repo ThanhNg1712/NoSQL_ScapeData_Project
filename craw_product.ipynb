{
  "cells": [
    {
      "cell_type": "code",
      "execution_count": null,
      "metadata": {
        "id": "wXYEzDq27lYk"
      },
      "outputs": [],
      "source": [
        "import pandas as pd\n",
        "import requests\n",
        "import time\n",
        "import random\n",
        "from tqdm import tqdm\n",
        "import re"
      ]
    },
    {
      "cell_type": "code",
      "execution_count": null,
      "metadata": {
        "colab": {
          "base_uri": "https://localhost:8080/"
        },
        "id": "K-FXBUud7sRq",
        "outputId": "4146e6ae-c0f7-4a28-f3ac-c6fa751319ff"
      },
      "outputs": [
        {
          "name": "stdout",
          "output_type": "stream",
          "text": [
            "Mounted at /content/gdrive\n"
          ]
        }
      ],
      "source": [
        "from google.colab import drive\n",
        "drive.mount('/content/gdrive')"
      ]
    },
    {
      "cell_type": "code",
      "execution_count": null,
      "metadata": {
        "id": "Uh3kAxyp7lYn"
      },
      "outputs": [],
      "source": [
        "cookies = {\n",
        "    'TIKI_GUEST_TOKEN': '8jWSuIDBb2NGVzr6hsUZXpkP1FRin7lY',\n",
        "    'TOKENS': '{%22access_token%22:%228jWSuIDBb2NGVzr6hsUZXpkP1FRin7lY%22%2C%22expires_in%22:157680000%2C%22expires_at%22:1763654224277%2C%22guest_token%22:%228jWSuIDBb2NGVzr6hsUZXpkP1FRin7lY%22}',\n",
        "    'amp_99d374': 'eSc-_0HT1um7cb57E7dwA0...1enloc6a2.1enlohtdv.3.2.5',\n",
        "    'amp_99d374_tiki.vn': 'eSc-_0HT1um7cb57E7dwA0...1enloc6a2.1enlocds8.0.1.1',\n",
        "    '_gcl_au': '1.1.559117409.1605974236',\n",
        "    '_ants_utm_v2': '',\n",
        "    '_pk_id.638735871.2fc5': 'b92ae025fbbdb31f.1605974236.1.1605974420.1605974236.',\n",
        "    '_pk_ses.638735871.2fc5': '*',\n",
        "    '_trackity': '70e316b0-96f2-dbe1-a2ed-43ff60419991',\n",
        "    '_ga_NKX31X43RV': 'GS1.1.1605974235.1.1.1605974434.0',\n",
        "    '_ga': 'GA1.1.657946765.1605974236',\n",
        "    'ai_client_id': '11935756853.1605974227',\n",
        "    'an_session': 'zizkzrzjzlzizqzlzqzjzdzizizqzgzmzkzmzlzrzmzgzdzizlzjzmzqzkznzhzhzkzdzhzdzizlzjzmzqzkznzhzhzkzdzizlzjzmzqzkznzhzhzkzdzjzdzhzqzdzizd2f27zdzjzdzlzmzmznzq',\n",
        "    'au_aid': '11935756853',\n",
        "    'dgs': '1605974411%3A3%3A0',\n",
        "    'au_gt': '1605974227146',\n",
        "    '_ants_services': '%5B%22cuid%22%5D',\n",
        "    '__admUTMtime': '1605974236',\n",
        "    '__iid': '749',\n",
        "    '__su': '0',\n",
        "    '_bs': 'bb9a32f6-ab13-ce80-92d6-57fd3fd6e4c8',\n",
        "    '_gid': 'GA1.2.867846791.1605974237',\n",
        "    '_fbp': 'fb.1.1605974237134.1297408816',\n",
        "    '_hjid': 'f152cf33-7323-4410-b9ae-79f6622ebc48',\n",
        "    '_hjFirstSeen': '1',\n",
        "    '_hjIncludedInPageviewSample': '1',\n",
        "    '_hjAbsoluteSessionInProgress': '0',\n",
        "    '_hjIncludedInSessionSample': '1',\n",
        "    'tiki_client_id': '657946765.1605974236',\n",
        "    '__gads': 'ID=ae56424189ecccbe-227eb8e1d6c400a8:T=1605974229:RT=1605974229:S=ALNI_MZFWYf2BAjzCSiRNLC3bKI-W_7YHA',\n",
        "    'proxy_s_sv': '1605976041662',\n",
        "    'TKSESSID': '8bcd49b02e1e16aa1cdb795c54d7b460',\n",
        "    'TIKI_RECOMMENDATION': '21dd50e7f7c194df673ea3b717459249',\n",
        "    '_gat': '1',\n",
        "    'cto_bundle': 'i6f48l9NVXNkQmJ6aEVLcXNqbHdjcVZoQ0k2clladUF2N2xjZzJ1cjR6WG43UTVaRmglMkZXWUdtRnJTNHZRbmQ4SDAlMkZwRFhqQnppRHFxJTJCSEozZXBqRFM4ZHVxUjQ2TmklMkJIcnhJd3luZXpJSnBpcE1nJTNE',\n",
        "    'TIKI_RECENTLYVIEWED': '58259141',\n",
        "}\n",
        "\n",
        "headers = {\n",
        "    'User-Agent': 'Mozilla/5.0 (Windows NT 6.3; Win64; x64; rv:83.0) Gecko/20100101 Firefox/83.0',\n",
        "    'Accept': 'application/json, text/plain, */*',\n",
        "    'Accept-Language': 'vi-VN,vi;q=0.8,en-US;q=0.5,en;q=0.3',\n",
        "    'Referer': 'https://tiki.vn/dien-thoai-samsung-galaxy-m31-128gb-6gb-hang-chinh-hang-p58259141.html?src=category-page-1789&2hi=0',\n",
        "    'x-guest-token': '8jWSuIDBb2NGVzr6hsUZXpkP1FRin7lY',\n",
        "    'Connection': 'keep-alive',\n",
        "    'TE': 'Trailers',\n",
        "}\n",
        "\n",
        "params = (\n",
        "    ('platform', 'web'),\n",
        "    ('spid', 123547428)\n",
        "    \n",
        ")"
      ]
    },
    {
      "cell_type": "code",
      "execution_count": null,
      "metadata": {
        "id": "3LPmz81o7lYo"
      },
      "outputs": [],
      "source": [
        "def parser_product(json, pid, category):\n",
        "    d = dict()\n",
        "    d['id'] = pid\n",
        "    d['category'] = category\n",
        "    if json.get('name') is not None:\n",
        "        d['name'] = json.get('name')\n",
        "    if json.get('short_description') is not None:\n",
        "        d['short_description'] = json.get('short_description')\n",
        "    if json.get('description') is not None:\n",
        "        d['description'] = re.sub('<.*?>', '', json.get('description'))\n",
        "    if json.get('short_url') is not None:\n",
        "        d['short_url'] = json.get('short_url')\n",
        "    if json.get('rating_average') is not None:\n",
        "        d['rating_average'] = json.get('rating_average')\n",
        "    if json.get('quantity_sold') is not None:\n",
        "        d['quantity_sold'] = json.get('quantity_sold').get('value')\n",
        "    if json.get('price') is not None:\n",
        "        d['price'] = json.get('price')\n",
        "    return d"
      ]
    },
    {
      "cell_type": "code",
      "execution_count": null,
      "metadata": {
        "id": "m9PQQZtl7lYo"
      },
      "outputs": [],
      "source": [
        "df_id = pd.read_csv('/content/gdrive/MyDrive/Colab Notebooks/product_id/cate_1.csv')\n",
        "p_ids = df_id.id.to_list()\n",
        "\n",
        "\n",
        "p_category = df_id.category.to_list()\n",
        "print(p_ids)"
      ]
    },
    {
      "cell_type": "code",
      "execution_count": null,
      "metadata": {
        "colab": {
          "background_save": true
        },
        "id": "MC5zA46Y7lYq",
        "scrolled": true
      },
      "outputs": [],
      "source": [
        "result = []\n",
        "\n",
        "\n",
        "for pid, category in tqdm(zip(p_ids, p_category), total=len(p_ids)):\n",
        "    response = requests.get('https://tiki.vn/api/v2/products/{}'.format(pid), headers=headers, params=params, cookies=cookies)\n",
        "\n",
        "    \n",
        "    if response.status_code == 200:\n",
        "        print('Crawl data {} success !!!'.format(pid))\n",
        "        print('Crawl data {} success category !!!'.format(category))\n",
        "\n",
        "        \n",
        "        result.append(parser_product(response.json(), pid, category))\n",
        "\n",
        "        \n",
        "        time.sleep(0.5)"
      ]
    },
    {
      "cell_type": "code",
      "execution_count": null,
      "metadata": {
        "id": "fBE3b8TI7lYr"
      },
      "outputs": [],
      "source": [
        "df_product = pd.DataFrame(result)\n",
        "df_product.to_csv('/Users/thanhnguyen/Desktop/Data_analysis/DE_k2/Project4/product_data/product_2.csv', index=False, encoding='utf-8-sig')"
      ]
    },
    {
      "cell_type": "code",
      "execution_count": null,
      "metadata": {
        "id": "1yeBattR7lYr"
      },
      "outputs": [],
      "source": [
        "df_product.shape"
      ]
    },
    {
      "cell_type": "code",
      "execution_count": null,
      "metadata": {
        "id": "s6egMxJDYXzU"
      },
      "outputs": [],
      "source": []
    }
  ],
  "metadata": {
    "accelerator": "GPU",
    "colab": {
      "machine_shape": "hm",
      "provenance": []
    },
    "gpuClass": "standard",
    "kernelspec": {
      "display_name": "Python 3",
      "language": "python",
      "name": "python3"
    },
    "language_info": {
      "codemirror_mode": {
        "name": "ipython",
        "version": 3
      },
      "file_extension": ".py",
      "mimetype": "text/x-python",
      "name": "python",
      "nbconvert_exporter": "python",
      "pygments_lexer": "ipython3",
      "version": "3.8.3"
    }
  },
  "nbformat": 4,
  "nbformat_minor": 0
}