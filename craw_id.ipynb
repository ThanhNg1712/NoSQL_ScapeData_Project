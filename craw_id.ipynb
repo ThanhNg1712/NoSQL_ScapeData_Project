{
  "cells": [
    {
      "cell_type": "code",
      "execution_count": null,
      "metadata": {
        "id": "MTgqsHpJ5n5m"
      },
      "outputs": [],
      "source": [
        "import requests\n",
        "import time\n",
        "import random\n",
        "import pandas as pd\n"
      ]
    },
    {
      "cell_type": "code",
      "source": [
        "from google.colab import drive\n",
        "drive.mount('/content/gdrive')"
      ],
      "metadata": {
        "id": "0XPExPHg5pWu"
      },
      "execution_count": null,
      "outputs": []
    },
    {
      "cell_type": "code",
      "execution_count": null,
      "metadata": {
        "id": "dooc9MuL5n5o"
      },
      "outputs": [],
      "source": [
        "headers = {\n",
        "    'User-Agent': 'Mozilla/5.0 (Windows NT 6.3; Win64; x64; rv:83.0) Gecko/20100101 Firefox/83.0',\n",
        "    'Accept': 'application/json, text/plain, */*',\n",
        "    'Accept-Language': 'vi-VN,vi;q=0.8,en-US;q=0.5,en;q=0.3',\n",
        "    'Referer': 'https://tiki.vn/?src=header_tiki',\n",
        "    'x-guest-token': '8jWSuIDBb2NGVzr6hsUZXpkP1FRin7lY',\n",
        "    'Connection': 'keep-alive',\n",
        "    'TE': 'Trailers',\n",
        "}\n",
        "\n",
        "params = {\n",
        "    'limit': '40',\n",
        "    'include': 'advertisement',\n",
        "    'aggregations': '2',\n",
        "    'trackity_id': '4d2a99e2-729e-206f-704d-4ff5e425b22b',\n",
        "    'category': '2040',\n",
        "    'page': '1',\n",
        "    'src': 'C2040',\n",
        "    'urlKey': 'nha-cua-doi-song',\n",
        "}"
      ]
    },
    {
      "cell_type": "code",
      "execution_count": null,
      "metadata": {
        "id": "TGLokYNh5n5p"
      },
      "outputs": [],
      "source": [
        "product_id = []\n",
        "page = 1\n",
        "has_data = True"
      ]
    },
    {
      "cell_type": "code",
      "execution_count": null,
      "metadata": {
        "id": "B2eCauzU5n5p"
      },
      "outputs": [],
      "source": [
        "df_category = pd.read_csv('/content/gdrive/MyDrive/Colab Notebooks/data_seperated/file_10.csv')"
      ]
    },
    {
      "cell_type": "code",
      "execution_count": null,
      "metadata": {
        "id": "-tVeo6yx5n5q"
      },
      "outputs": [],
      "source": [
        "df_category.head()"
      ]
    },
    {
      "cell_type": "code",
      "execution_count": null,
      "metadata": {
        "scrolled": true,
        "id": "1lA-HjM15n5s"
      },
      "outputs": [],
      "source": [
        "for index, row in df_category.iterrows():\n",
        "\n",
        "    \n",
        "    category = row['LEAF_CAT_ID']\n",
        "    url_key = row['LEAF_CAT_URL']\n",
        "\n",
        "   \n",
        "    category = category.replace('c', '')\n",
        "    url_key = url_key.replace('https://tiki.vn/', '')\n",
        "    url_key = url_key.replace('/c'+category, '')\n",
        "\n",
        "    print(category)\n",
        "    print(url_key)\n",
        "    \n",
        "    \n",
        "    \n",
        "    has_data = True\n",
        "    page = 1\n",
        "\n",
        "    \n",
        "    while has_data:\n",
        "        params['category'] = category\n",
        "        params['urlKey'] = url_key\n",
        "        params['page'] = page\n",
        "        response = requests.get('https://tiki.vn/api/v2/products', headers=headers, params=params)\n",
        "        \n",
        "     \n",
        "        if response.status_code == 200:\n",
        "\n",
        "            \n",
        "            data = response.json().get('data')\n",
        "            if data:\n",
        "                print(f'Request success - Page {page}!!!')\n",
        "                for record in data:\n",
        "                    \n",
        "                    product_id.append({'id': record.get('id'),'category': category})\n",
        "                    \n",
        "                page += 1\n",
        "                \n",
        "               \n",
        "                time.sleep(1)\n",
        "            else:\n",
        "                \n",
        "                has_data = False\n",
        "        else:\n",
        "            has_data = False\n",
        "            "
      ]
    },
    {
      "cell_type": "code",
      "execution_count": null,
      "metadata": {
        "id": "aTQs77k_5n5t"
      },
      "outputs": [],
      "source": [
        "#create data frame\n",
        "\n",
        "df = pd.DataFrame(product_id)\n",
        "\n",
        "df.to_csv('/content/gdrive/MyDrive/Colab Notebooks/product_id/cate_10.csv', index=False)"
      ]
    },
    {
      "cell_type": "code",
      "execution_count": null,
      "metadata": {
        "id": "_pqil1OU5n5t"
      },
      "outputs": [],
      "source": [
        "df.shape"
      ]
    },
    {
      "cell_type": "code",
      "source": [],
      "metadata": {
        "id": "emDO0cTy2Ntr"
      },
      "execution_count": null,
      "outputs": []
    }
  ],
  "metadata": {
    "kernelspec": {
      "display_name": "Python 3",
      "language": "python",
      "name": "python3"
    },
    "language_info": {
      "codemirror_mode": {
        "name": "ipython",
        "version": 3
      },
      "file_extension": ".py",
      "mimetype": "text/x-python",
      "name": "python",
      "nbconvert_exporter": "python",
      "pygments_lexer": "ipython3",
      "version": "3.8.3"
    },
    "colab": {
      "provenance": []
    }
  },
  "nbformat": 4,
  "nbformat_minor": 0
}